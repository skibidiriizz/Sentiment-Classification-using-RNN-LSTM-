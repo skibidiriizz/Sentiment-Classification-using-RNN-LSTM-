{
  "nbformat": 4,
  "nbformat_minor": 0,
  "metadata": {
    "colab": {
      "provenance": [],
      "collapsed_sections": [
        "kVsfPlc4ar88",
        "OaadlpRBermn",
        "Af5zWtJMHhZC"
      ],
      "gpuType": "T4"
    },
    "kernelspec": {
      "name": "python3",
      "display_name": "Python 3"
    },
    "language_info": {
      "name": "python"
    },
    "accelerator": "GPU"
  },
  "cells": [
    {
      "cell_type": "markdown",
      "source": [
        "**Assignment Topic:** RNN, LSTM\n",
        "\n",
        "**Date:** 23 March 2025  \n",
        "\n",
        "**Name:** Ajmal\n",
        "\n",
        "**Roll Number:** cs22b2046  \n"
      ],
      "metadata": {
        "id": "ZinwIhXamjfT"
      }
    },
    {
      "cell_type": "markdown",
      "source": [
        "# Lab - 08        \n",
        "## Sentiment Classification using RNN, LSTM  \n",
        "**Date:** 17-03-2025  \n",
        "\n",
        "### Objective\n",
        "Train a RNN based sentiment analysis model for classification of movie reviews.\n",
        "Explore and learn about the different preprocessing steps in the Natural Language Processing (NLP) domain.\n",
        "Apply suitable preprocessing steps for this sentiment analysis assignment.\n",
        "Build and train a RNN model using basic layers from the framework.\n",
        "Test model on the test set using suitable evaluation metrics.\n",
        "\n",
        "### Task 1: Train a RNN-based Model\n",
        "- Build and train a RNN model using basic layers from the framework.\n",
        "- Test model on the test set using suitable evaluation metrics.\n",
        "\n",
        "### Task 2: Train a LSTM-based Model\n",
        "- Build and train a LSTM model using basic layers from the framework.\n",
        "- Test model on the test set using suitable evaluation metrics.\n",
        "\n",
        "### Comparison\n",
        "Compare between the two approaches and highlight the improvements.\n",
        "\n",
        "## Dataset: Stanford Sentiment Treebank 2  \n",
        "**Original dataset link:** [SST2 Dataset](https://huggingface.co/datasets/stanfordnlp/sst2)  \n",
        "**Dataset Zip Link:** [Download Here](https://drive.google.com/file/d/1TytoIgt7KI9Ep9bo8bs_X0HSSnBJX0oi/)  \n",
        "\n",
        "### Data Fields\n",
        "- **idx**: Monotonically increasing index ID.\n",
        "- **sentence**: Complete sentence expressing an opinion about a film.\n",
        "- **label**: Sentiment of the opinion, either \"negative\" (0) or \"positive\" (1).\n",
        "\n",
        "### Data Split\n",
        "- Split the provided training dataset (67,349 rows) into:\n",
        "  - **5,000 rows** for testing\n",
        "  - **Remaining** for training\n",
        "- Use the separately provided validation dataset (872 rows) for validation.\n"
      ],
      "metadata": {
        "id": "W155bGC6vsfe"
      }
    },
    {
      "cell_type": "markdown",
      "source": [
        "# Part 1 RNN"
      ],
      "metadata": {
        "id": "kVsfPlc4ar88"
      }
    },
    {
      "cell_type": "code",
      "execution_count": null,
      "metadata": {
        "id": "mJ01dHkpvlSI"
      },
      "outputs": [],
      "source": [
        "import pandas as pd\n",
        "import numpy as np\n",
        "import tensorflow as tf\n",
        "from tensorflow.keras.preprocessing.text import Tokenizer\n",
        "from tensorflow.keras.preprocessing.sequence import pad_sequences\n",
        "from tensorflow.keras.models import Sequential\n",
        "from tensorflow.keras.layers import Embedding, SimpleRNN, Dense, Dropout\n",
        "from sklearn.model_selection import train_test_split\n",
        "from sklearn.metrics import accuracy_score, classification_report\n"
      ]
    },
    {
      "cell_type": "code",
      "source": [
        "from google.colab import drive\n",
        "drive.mount('/content/drive')"
      ],
      "metadata": {
        "colab": {
          "base_uri": "https://localhost:8080/"
        },
        "id": "WcFx6PHPaH2Y",
        "outputId": "b039b3f9-ff4b-40e0-d04e-7c843c59ce8f"
      },
      "execution_count": null,
      "outputs": [
        {
          "output_type": "stream",
          "name": "stdout",
          "text": [
            "Mounted at /content/drive\n"
          ]
        }
      ]
    },
    {
      "cell_type": "markdown",
      "source": [
        "## Load dataset from Google Drive\n"
      ],
      "metadata": {
        "id": "kDNDck78aofS"
      }
    },
    {
      "cell_type": "code",
      "source": [
        "# sst2_train.parquet  sst2_valid.parquet\n",
        "train_path = '/content/drive/MyDrive/sst2/sst2_train.parquet'\n",
        "val_path = '/content/drive/MyDrive/sst2/sst2_valid.parquet'"
      ],
      "metadata": {
        "id": "c0Lgm5rlam9i"
      },
      "execution_count": null,
      "outputs": []
    },
    {
      "cell_type": "code",
      "source": [
        "train_df = pd.read_parquet(train_path)\n",
        "val_df = pd.read_parquet(val_path)"
      ],
      "metadata": {
        "id": "w31J47LWawPs"
      },
      "execution_count": null,
      "outputs": []
    },
    {
      "cell_type": "markdown",
      "source": [
        "## Split training data into training and testing\n"
      ],
      "metadata": {
        "id": "mgvfniOmbQV-"
      }
    },
    {
      "cell_type": "code",
      "source": [
        "train_data, test_data = train_test_split(train_df, test_size=5000, random_state=42)"
      ],
      "metadata": {
        "id": "5EK9__2AbNLN"
      },
      "execution_count": null,
      "outputs": []
    },
    {
      "cell_type": "code",
      "source": [
        "# Extract sentences and labels\n",
        "X_train, y_train = train_data[\"sentence\"], train_data[\"label\"]\n",
        "X_test, y_test = test_data[\"sentence\"], test_data[\"label\"]\n",
        "X_val, y_val = val_df[\"sentence\"], val_df[\"label\"]"
      ],
      "metadata": {
        "id": "8bLFw-1EbRu_"
      },
      "execution_count": null,
      "outputs": []
    },
    {
      "cell_type": "markdown",
      "source": [
        "## pre1\n",
        "\n",
        "Test Accuracy: 0.7112\n",
        "\n",
        "|               | Precision | Recall | F1-Score | Support |\n",
        "|--------------|-----------|--------|----------|---------|\n",
        "| **0**       | 0.81      | 0.43   | 0.56     | 2167    |\n",
        "| **1**       | 0.68      | 0.92   | 0.78     | 2833    |\n",
        "| **Accuracy** |           |        | 0.71     | 5000    |\n",
        "| **Macro Avg** | 0.75     | 0.68   | 0.67     | 5000    |\n",
        "| **Weighted Avg** | 0.74  | 0.71   | 0.69     | 5000    |\n"
      ],
      "metadata": {
        "id": "OaadlpRBermn"
      }
    },
    {
      "cell_type": "code",
      "source": [
        "\n",
        "# Tokenization and Padding\n",
        "max_vocab = 20000  # Limit vocabulary size\n",
        "max_length = 100  # Max length of a sentence\n",
        "\n",
        "tokenizer = Tokenizer(num_words=max_vocab, oov_token=\"<OOV>\")\n",
        "tokenizer.fit_on_texts(X_train)\n",
        "\n",
        "X_train_seq = pad_sequences(tokenizer.texts_to_sequences(X_train), maxlen=max_length, padding='post')\n",
        "X_test_seq = pad_sequences(tokenizer.texts_to_sequences(X_test), maxlen=max_length, padding='post')\n",
        "X_val_seq = pad_sequences(tokenizer.texts_to_sequences(X_val), maxlen=max_length, padding='post')\n"
      ],
      "metadata": {
        "id": "mA4wnyYObUVy"
      },
      "execution_count": null,
      "outputs": []
    },
    {
      "cell_type": "markdown",
      "source": [
        "## pre2\n",
        "Test Accuracy: 0.8946\n",
        "\n",
        "|               | Precision | Recall | F1-Score | Support |\n",
        "|--------------|-----------|--------|----------|---------|\n",
        "| **0**       | 0.89      | 0.87   | 0.88     | 2167    |\n",
        "| **1**       | 0.90      | 0.91   | 0.91     | 2833    |\n",
        "| **Accuracy** |           |        | 0.8946   | 5000    |\n",
        "| **Macro Avg** | 0.89     | 0.89   | 0.89     | 5000    |\n",
        "| **Weighted Avg** | 0.89  | 0.89   | 0.89     | 5000    |\n",
        "\n",
        "\n",
        "\n"
      ],
      "metadata": {
        "id": "WcOvxg7setvE"
      }
    },
    {
      "cell_type": "code",
      "source": [
        "import re\n",
        "import nltk\n",
        "from nltk.corpus import stopwords\n",
        "nltk.download('stopwords')\n",
        "\n",
        "# Text Cleaning Function\n",
        "def clean_text(text):\n",
        "    text = text.lower()  # Convert to lowercase\n",
        "    text = re.sub(r'[^a-zA-Z0-9\\s]', '', text)  # Remove punctuation and special characters\n",
        "    stop_words = set(stopwords.words('english'))\n",
        "    text = ' '.join([word for word in text.split() if word not in stop_words])  # Remove stopwords\n",
        "    return text\n",
        "\n",
        "# Apply text cleaning\n",
        "X_train = X_train.apply(clean_text)\n",
        "X_test = X_test.apply(clean_text)\n",
        "X_val = X_val.apply(clean_text)\n",
        "\n",
        "# Tokenization and Padding\n",
        "max_vocab = 10000  # Limit vocabulary size\n",
        "max_length = 100  # Max length of a sentence\n",
        "\n",
        "tokenizer = Tokenizer(num_words=max_vocab, oov_token=\"<OOV>\")\n",
        "tokenizer.fit_on_texts(X_train)\n",
        "\n",
        "X_train_seq = pad_sequences(tokenizer.texts_to_sequences(X_train), maxlen=max_length, padding='post')\n",
        "X_test_seq = pad_sequences(tokenizer.texts_to_sequences(X_test), maxlen=max_length, padding='post')\n",
        "X_val_seq = pad_sequences(tokenizer.texts_to_sequences(X_val), maxlen=max_length, padding='post')\n"
      ],
      "metadata": {
        "colab": {
          "base_uri": "https://localhost:8080/"
        },
        "id": "AyzrKJHyeq97",
        "outputId": "501e0656-2192-4e74-e71c-ccf8283aca96"
      },
      "execution_count": null,
      "outputs": [
        {
          "output_type": "stream",
          "name": "stderr",
          "text": [
            "[nltk_data] Downloading package stopwords to /root/nltk_data...\n",
            "[nltk_data]   Package stopwords is already up-to-date!\n"
          ]
        }
      ]
    },
    {
      "cell_type": "markdown",
      "source": [
        "## Build RNN Model"
      ],
      "metadata": {
        "id": "adRvCF0sbjOH"
      }
    },
    {
      "cell_type": "code",
      "source": [
        "from tensorflow.keras.layers import LeakyReLU\n",
        "from tensorflow.keras.optimizers import Adam\n",
        "\n",
        "\n",
        "def create_rnn_model():\n",
        "    model = Sequential([\n",
        "        Embedding(input_dim=max_vocab, output_dim=128, input_length=max_length),\n",
        "        SimpleRNN(64, return_sequences=False),\n",
        "        Dropout(0.3),\n",
        "        Dense(64),\n",
        "        LeakyReLU(alpha=0.1),\n",
        "        Dense(1, activation='sigmoid')\n",
        "    ])\n",
        "    model.compile(loss='binary_crossentropy', optimizer=Adam(learning_rate=0.00005), metrics=['accuracy'])\n",
        "    return model\n",
        "\n",
        "model = create_rnn_model()"
      ],
      "metadata": {
        "id": "H-d34JisbXvR"
      },
      "execution_count": null,
      "outputs": []
    },
    {
      "cell_type": "markdown",
      "source": [
        "## Train"
      ],
      "metadata": {
        "id": "880XCTXYbl0f"
      }
    },
    {
      "cell_type": "code",
      "source": [
        "model.fit(X_train_seq, y_train, validation_data=(X_val_seq, y_val), epochs=5, batch_size=32)"
      ],
      "metadata": {
        "colab": {
          "base_uri": "https://localhost:8080/"
        },
        "id": "_2wY6LPzbdWu",
        "outputId": "68e61631-f8fa-4479-b101-fd5f7f206c09"
      },
      "execution_count": null,
      "outputs": [
        {
          "output_type": "stream",
          "name": "stdout",
          "text": [
            "Epoch 1/5\n",
            "\u001b[1m1949/1949\u001b[0m \u001b[32m━━━━━━━━━━━━━━━━━━━━\u001b[0m\u001b[37m\u001b[0m \u001b[1m23s\u001b[0m 10ms/step - accuracy: 0.6644 - loss: 0.5988 - val_accuracy: 0.7569 - val_loss: 0.5403\n",
            "Epoch 2/5\n",
            "\u001b[1m1949/1949\u001b[0m \u001b[32m━━━━━━━━━━━━━━━━━━━━\u001b[0m\u001b[37m\u001b[0m \u001b[1m17s\u001b[0m 9ms/step - accuracy: 0.8838 - loss: 0.3063 - val_accuracy: 0.7867 - val_loss: 0.5313\n",
            "Epoch 3/5\n",
            "\u001b[1m1949/1949\u001b[0m \u001b[32m━━━━━━━━━━━━━━━━━━━━\u001b[0m\u001b[37m\u001b[0m \u001b[1m18s\u001b[0m 9ms/step - accuracy: 0.9099 - loss: 0.2408 - val_accuracy: 0.7936 - val_loss: 0.5375\n",
            "Epoch 4/5\n",
            "\u001b[1m1949/1949\u001b[0m \u001b[32m━━━━━━━━━━━━━━━━━━━━\u001b[0m\u001b[37m\u001b[0m \u001b[1m20s\u001b[0m 9ms/step - accuracy: 0.9196 - loss: 0.2156 - val_accuracy: 0.7982 - val_loss: 0.5234\n",
            "Epoch 5/5\n",
            "\u001b[1m1949/1949\u001b[0m \u001b[32m━━━━━━━━━━━━━━━━━━━━\u001b[0m\u001b[37m\u001b[0m \u001b[1m21s\u001b[0m 9ms/step - accuracy: 0.9242 - loss: 0.2004 - val_accuracy: 0.7901 - val_loss: 0.5565\n"
          ]
        },
        {
          "output_type": "execute_result",
          "data": {
            "text/plain": [
              "<keras.src.callbacks.history.History at 0x7b68cadf7c90>"
            ]
          },
          "metadata": {},
          "execution_count": 51
        }
      ]
    },
    {
      "cell_type": "markdown",
      "source": [
        "## Evaluate"
      ],
      "metadata": {
        "id": "5OTuQ7Nubo8h"
      }
    },
    {
      "cell_type": "code",
      "source": [
        "y_pred = (model.predict(X_test_seq) > 0.5).astype(\"int32\")\n",
        "print(\"Test Accuracy:\", accuracy_score(y_test, y_pred))\n",
        "print(classification_report(y_test, y_pred))\n"
      ],
      "metadata": {
        "colab": {
          "base_uri": "https://localhost:8080/"
        },
        "id": "dorlz6dwbgl6",
        "outputId": "dd3aac86-5dea-4ec3-cb82-a1ffab7563e8"
      },
      "execution_count": null,
      "outputs": [
        {
          "output_type": "stream",
          "name": "stdout",
          "text": [
            "\u001b[1m157/157\u001b[0m \u001b[32m━━━━━━━━━━━━━━━━━━━━\u001b[0m\u001b[37m\u001b[0m \u001b[1m1s\u001b[0m 6ms/step\n",
            "Test Accuracy: 0.8946\n",
            "              precision    recall  f1-score   support\n",
            "\n",
            "           0       0.89      0.87      0.88      2167\n",
            "           1       0.90      0.91      0.91      2833\n",
            "\n",
            "    accuracy                           0.89      5000\n",
            "   macro avg       0.89      0.89      0.89      5000\n",
            "weighted avg       0.89      0.89      0.89      5000\n",
            "\n"
          ]
        }
      ]
    },
    {
      "cell_type": "markdown",
      "source": [
        "# Part 2 LSTM"
      ],
      "metadata": {
        "id": "Af5zWtJMHhZC"
      }
    },
    {
      "cell_type": "code",
      "source": [
        "import pandas as pd\n",
        "import numpy as np\n",
        "import re\n",
        "import tensorflow as tf\n",
        "from tensorflow.keras.preprocessing.text import Tokenizer\n",
        "from tensorflow.keras.preprocessing.sequence import pad_sequences\n",
        "from tensorflow.keras.models import Sequential\n",
        "from tensorflow.keras.layers import Embedding, LSTM, Dense, Dropout, Bidirectional\n",
        "from sklearn.model_selection import train_test_split\n",
        "from sklearn.metrics import accuracy_score\n",
        "import nltk\n",
        "from nltk.corpus import stopwords\n",
        "nltk.download('stopwords')\n",
        "stop_words = set(stopwords.words('english'))"
      ],
      "metadata": {
        "colab": {
          "base_uri": "https://localhost:8080/"
        },
        "id": "1Be9lO5wztLn",
        "outputId": "6d336351-e4d8-48fb-d025-306ca9267b83"
      },
      "execution_count": null,
      "outputs": [
        {
          "output_type": "stream",
          "name": "stderr",
          "text": [
            "[nltk_data] Downloading package stopwords to /root/nltk_data...\n",
            "[nltk_data]   Unzipping corpora/stopwords.zip.\n"
          ]
        }
      ]
    },
    {
      "cell_type": "code",
      "source": [
        "# Load dataset from Google Drive\n",
        "from google.colab import drive\n",
        "drive.mount('/content/drive')\n",
        "\n",
        "# File paths\n",
        "train_path = '/content/drive/MyDrive/sst2/sst2_train.parquet'\n",
        "val_path = '/content/drive/MyDrive/sst2/sst2_valid.parquet'\n",
        "\n",
        "# Read datasets\n",
        "train_df = pd.read_parquet(train_path)\n",
        "val_df = pd.read_parquet(val_path)\n",
        "\n",
        "# Split train data into training and testing sets\n",
        "train_data, test_data = train_test_split(train_df, test_size=5000/len(train_df), random_state=42)\n"
      ],
      "metadata": {
        "id": "84ukgP6mHrIq",
        "colab": {
          "base_uri": "https://localhost:8080/"
        },
        "outputId": "6a8e7d5c-e9df-4375-f25c-8d59aafbedfd"
      },
      "execution_count": null,
      "outputs": [
        {
          "output_type": "stream",
          "name": "stdout",
          "text": [
            "Mounted at /content/drive\n"
          ]
        }
      ]
    },
    {
      "cell_type": "code",
      "source": [
        "# Text Preprocessing Function\n",
        "def clean_text(text):\n",
        "    text = text.lower()\n",
        "    text = re.sub(r'[^a-zA-Z\\s]', '', text)  # Remove special characters and numbers\n",
        "    text = ' '.join([word for word in text.split() if word not in stop_words])  # Remove stopwords\n",
        "    return text\n",
        "\n",
        "# Apply cleaning\n",
        "train_data['sentence'] = train_data['sentence'].apply(clean_text)\n",
        "val_df['sentence'] = val_df['sentence'].apply(clean_text)\n",
        "test_data['sentence'] = test_data['sentence'].apply(clean_text)\n",
        "\n",
        "# Extract sentences and labels\n",
        "X_train, y_train = train_data['sentence'].values, train_data['label'].values\n",
        "X_val, y_val = val_df['sentence'].values, val_df['label'].values\n",
        "X_test, y_test = test_data['sentence'].values, test_data['label'].values\n",
        "\n",
        "# Tokenization and padding\n",
        "max_words = 20000  # voca\n",
        "max_len = 200\n",
        "\n",
        "tokenizer = Tokenizer(num_words=max_words, oov_token=\"<OOV>\")\n",
        "tokenizer.fit_on_texts(X_train)\n",
        "\n",
        "X_train_seq = pad_sequences(tokenizer.texts_to_sequences(X_train), maxlen=max_len, padding='post')\n",
        "X_val_seq = pad_sequences(tokenizer.texts_to_sequences(X_val), maxlen=max_len, padding='post')\n",
        "X_test_seq = pad_sequences(tokenizer.texts_to_sequences(X_test), maxlen=max_len, padding='post')\n"
      ],
      "metadata": {
        "id": "E4hqDzW7yDMy"
      },
      "execution_count": null,
      "outputs": []
    },
    {
      "cell_type": "code",
      "source": [
        "# Build LSTM model\n",
        "model = Sequential([\n",
        "    Embedding(input_dim=max_words, output_dim=128, input_length=max_len, trainable=True),  # Trainable embedding layer\n",
        "    Bidirectional(LSTM(64, return_sequences=True)),\n",
        "    Bidirectional(LSTM(32)),\n",
        "    Dense(16, activation='relu'),\n",
        "    Dropout(0.5),\n",
        "    #Dense(16, activation='relu'),\n",
        "    #Dropout(0.5),\n",
        "    Dense(1, activation='sigmoid')\n",
        "])\n",
        "\n",
        "model.compile(loss='binary_crossentropy', optimizer='adam', metrics=['accuracy'])\n"
      ],
      "metadata": {
        "id": "i0ikl1_fyIUz"
      },
      "execution_count": null,
      "outputs": []
    },
    {
      "cell_type": "code",
      "source": [
        "# Train the model\n",
        "epochs = 5\n",
        "batch_size = 128\n",
        "history = model.fit(X_train_seq, y_train, validation_data=(X_val_seq, y_val), epochs=epochs, batch_size=batch_size)\n"
      ],
      "metadata": {
        "colab": {
          "base_uri": "https://localhost:8080/"
        },
        "id": "rJrKh9fLyKZm",
        "outputId": "21a81ecc-82f8-461d-b6c3-ae36fd3a38ec"
      },
      "execution_count": null,
      "outputs": [
        {
          "output_type": "stream",
          "name": "stdout",
          "text": [
            "Epoch 1/5\n",
            "\u001b[1m488/488\u001b[0m \u001b[32m━━━━━━━━━━━━━━━━━━━━\u001b[0m\u001b[37m\u001b[0m \u001b[1m26s\u001b[0m 41ms/step - accuracy: 0.7116 - loss: 0.5293 - val_accuracy: 0.8050 - val_loss: 0.4813\n",
            "Epoch 2/5\n",
            "\u001b[1m488/488\u001b[0m \u001b[32m━━━━━━━━━━━━━━━━━━━━\u001b[0m\u001b[37m\u001b[0m \u001b[1m20s\u001b[0m 40ms/step - accuracy: 0.9191 - loss: 0.2367 - val_accuracy: 0.7821 - val_loss: 0.5300\n",
            "Epoch 3/5\n",
            "\u001b[1m488/488\u001b[0m \u001b[32m━━━━━━━━━━━━━━━━━━━━\u001b[0m\u001b[37m\u001b[0m \u001b[1m21s\u001b[0m 40ms/step - accuracy: 0.9441 - loss: 0.1683 - val_accuracy: 0.7833 - val_loss: 0.5954\n",
            "Epoch 4/5\n",
            "\u001b[1m488/488\u001b[0m \u001b[32m━━━━━━━━━━━━━━━━━━━━\u001b[0m\u001b[37m\u001b[0m \u001b[1m21s\u001b[0m 40ms/step - accuracy: 0.9543 - loss: 0.1296 - val_accuracy: 0.7626 - val_loss: 0.7874\n",
            "Epoch 5/5\n",
            "\u001b[1m488/488\u001b[0m \u001b[32m━━━━━━━━━━━━━━━━━━━━\u001b[0m\u001b[37m\u001b[0m \u001b[1m19s\u001b[0m 40ms/step - accuracy: 0.9597 - loss: 0.1086 - val_accuracy: 0.7672 - val_loss: 1.1066\n"
          ]
        }
      ]
    },
    {
      "cell_type": "code",
      "source": [
        "# Evaluate the model on test set\n",
        "y_pred = (model.predict(X_test_seq) > 0.5).astype(\"int32\")\n",
        "accuracy = accuracy_score(y_test, y_pred)\n",
        "print(f'Test Accuracy: {accuracy:.4f}')"
      ],
      "metadata": {
        "colab": {
          "base_uri": "https://localhost:8080/"
        },
        "id": "ZR8t60kTyMC1",
        "outputId": "ff099681-4627-4760-bb87-5526aaf7eec6"
      },
      "execution_count": null,
      "outputs": [
        {
          "output_type": "stream",
          "name": "stdout",
          "text": [
            "\u001b[1m157/157\u001b[0m \u001b[32m━━━━━━━━━━━━━━━━━━━━\u001b[0m\u001b[37m\u001b[0m \u001b[1m3s\u001b[0m 17ms/step\n",
            "Test Accuracy: 0.9190\n"
          ]
        }
      ]
    },
    {
      "cell_type": "markdown",
      "source": [
        "# Part 3 Compare between the two approaches and highlight the improvements"
      ],
      "metadata": {
        "id": "w8zlzt-69Zbv"
      }
    },
    {
      "cell_type": "markdown",
      "source": [
        "### Comparison between RNN and LSTM Approaches\n",
        "\n",
        "#### 1. **Model Architecture**\n",
        "- **RNN Model (Part 1)**:\n",
        "  - The RNN model uses a simple **SimpleRNN** layer with 64 units, followed by a dense layer with 64 units and a LeakyReLU activation function. The final layer is a single neuron with a sigmoid activation function for binary classification.\n",
        "  - The model is relatively simple\n",
        "\n",
        "- **LSTM Model (Part 2)**:\n",
        "  - The LSTM model uses a **Bidirectional LSTM** layer with 64 units, followed by another Bidirectional LSTM layer with 32 units. This is followed by a dense layer with 16 units and a ReLU activation function, and finally a single neuron with a sigmoid activation function for binary classification.\n",
        "  - The LSTM model is more complex and is designed to capture long-term dependencies in the data, which is particularly useful for sequential data like text.\n",
        "\n",
        "#### 2. **Preprocessing**\n",
        "- **RNN Model (Part 1)**:\n",
        "  - The preprocessing includes tokenization, padding, and text cleaning (lowercasing, removing special characters, and stopwords). The vocabulary size is limited to 10,000 words, and the maximum sequence length is 100.\n",
        "  \n",
        "- **LSTM Model (Part 2)**:\n",
        "  - The preprocessing is similar to the RNN model, but the vocabulary size is increased to 20,000 words, and the maximum sequence length is extended to 200. This allows the LSTM model to handle longer sequences and a larger vocabulary, which can be beneficial for capturing more context.\n",
        "\n",
        "#### 3. **Training**\n",
        "- **RNN Model (Part 1)**:\n",
        "  - The RNN model is trained for 5 epochs with a batch size of 32. The learning rate is set to 0.00005, which is relatively low, and the model uses the Adam optimizer.\n",
        "  \n",
        "- **LSTM Model (Part 2)**:\n",
        "  - The LSTM model is also trained for 5 epochs but with a larger batch size of 128. The learning rate is not explicitly set, but the Adam optimizer is used by default. The larger batch size allows for faster training and better generalization.\n",
        "\n",
        "#### 4. **Performance**\n",
        "- **RNN Model (Part 1)**:\n",
        "  - The RNN model achieves a **test accuracy of 89.46%**. The precision, recall, and F1-score are balanced, with slightly better performance on the positive class (label 1).\n",
        "  \n",
        "- **LSTM Model (Part 2)**:\n",
        "  - The LSTM model achieves a **test accuracy of 91.90%**, which is an improvement over the RNN model. The LSTM model also shows better generalization, as indicated by the higher accuracy on the test set.\n",
        "\n",
        "#### 5. **Improvements with LSTM**\n",
        "- **Better Handling of Long-Term Dependencies**: LSTM models are designed to handle long-term dependencies in sequential data, which is crucial for tasks like sentiment analysis where the context of words matters.\n",
        "- **Higher Accuracy**: The LSTM model achieves a higher accuracy (91.90%) compared to the RNN model (89.46%), indicating that it is better at capturing the nuances in the text data.\n",
        "- **Larger Vocabulary and Sequence Length**: The LSTM model can handle a larger vocabulary (20,000 words) and longer sequences (200 tokens), which allows it to capture more context and improve performance.\n",
        "- **Bidirectional LSTM**: The use of bidirectional LSTM layers allows the model to capture context from both past and future words, which is particularly useful for understanding the sentiment expressed in a sentence.\n",
        "\n",
        "#### 6. **Conclusion**\n",
        "- The LSTM model outperforms the RNN model in terms of accuracy and generalization. The improvements are primarily due to the LSTM's ability to handle long-term dependencies and its more complex architecture, which allows it to capture more context from the text data. The bidirectional LSTM layers further enhance the model's ability to understand the sentiment expressed in the text.\n",
        "\n",
        "In summary, while the RNN model performs reasonably well, the LSTM model offers significant improvements in accuracy and generalization, making it a better choice for sentiment analysis tasks."
      ],
      "metadata": {
        "id": "AfZbjldxpALO"
      }
    }
  ]
}